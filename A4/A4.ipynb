{
 "cells": [
  {
   "cell_type": "markdown",
   "metadata": {},
   "source": [
    "# Assignment 4. Database Design"
   ]
  },
  {
   "cell_type": "markdown",
   "metadata": {},
   "source": [
    "## Objectives"
   ]
  },
  {
   "cell_type": "markdown",
   "metadata": {},
   "source": [
    "This assignment has two parts.\n",
    "\n",
    "* In Part 1, you will be trained to draw an E/R diagram (Task 1) and transform it into relational schemas (Task 2).\n",
    "* In Part 2, you will be trained to master important techniques related to database normalization (Tasks 3-5).\n",
    "\n",
    "Download [A4.zip](A4.zip). Answer the questions in A4.ipynb."
   ]
  },
  {
   "cell_type": "markdown",
   "metadata": {},
   "source": [
    "## Part 1. Entity-Relationship Model (10 points)"
   ]
  },
  {
   "cell_type": "markdown",
   "metadata": {},
   "source": [
    "You will design a database for SFU. This database will include information about departments, students, courses (and their offerings):\n",
    "\n",
    "* Information about **students** includes their SID, name and age. The SID of a student is assumed to be unique, not shared by any other student. Each student is either a **graduate** or or an **undergraduate**. \n",
    " - Each student must be in one category or the other, and cannot be in both categories simultaneously.\n",
    " - For graduate students, we record what their research field is.\n",
    " - For undergraduate students, we record their concentration.\n",
    " \n",
    " \n",
    " \n",
    "* Information about **departments** includes their name and address. The name of a department is assumed to be unique, not shared by any other department.\n",
    "\n",
    "\n",
    "\n",
    "* We need to be able to associate student with the departments with which they are affiliated. Each student has to be affiliated with exactly one department.\n",
    "\n",
    "\n",
    "\n",
    "* Information about a course includes its number (e.g., \"354\"), name (e.g., \"Introduction to Databases\"), and capacity (e.g., 110). We also need to be able to know the unique department that owns each course: no cross-listing of courses across departments is allowed, and every course is owned by exactly one department.\n",
    " * Note: you cannot assume that course number uniquely identifies a course; in fact, you cannot assume even that course number together with course name uniquely identify a course. However, course number uniquely identifies courses within a department.\n",
    " \n",
    " \n",
    " \n",
    "* Finally, we need to record all terms -- identified as semester (e.g., \"fall\") and year (e.g., \"2018\") -- in which each course has been offered in the history of the university.\n",
    "\n",
    "\n",
    "\n",
    "* Assume that for a course to be offered during a term, it has at least one student enrolled. Also a course is offered at most once during each term. In other words, a course cannot have multiple sections during one term.\n",
    "\n",
    "\n",
    "\n",
    "* Finally, assume that a student can take courses “owned” by departments with which the student is not affiliated. And a student should be enrolled in at least one course.\n",
    "\n",
    "\n",
    "\n"
   ]
  },
  {
   "cell_type": "markdown",
   "metadata": {},
   "source": [
    "### Task 1: E/R Diagram (5 points) "
   ]
  },
  {
   "cell_type": "markdown",
   "metadata": {},
   "source": [
    "Render the SFU database in the version of the E/R model that we studied in class, with *exactly* the constraints and requirements specified above.\n"
   ]
  },
  {
   "cell_type": "markdown",
   "metadata": {},
   "source": [
    "<img src=\"CMPT 354 ER Diagram.png\" alt=\"Drawing\" style=\"width: 800px;\"/>"
   ]
  },
  {
   "cell_type": "markdown",
   "metadata": {},
   "source": [
    "### Task 2: From E/R Diagram to Relational Schemas (5 points)."
   ]
  },
  {
   "cell_type": "markdown",
   "metadata": {},
   "source": [
    "Please follow the above E/R Diagram and write SQL queries to create required tables in `sfu.db`"
   ]
  },
  {
   "cell_type": "code",
   "execution_count": 16,
   "metadata": {},
   "outputs": [
    {
     "name": "stdout",
     "output_type": "stream",
     "text": [
      "The sql extension is already loaded. To reload it, use:\n",
      "  %reload_ext sql\n"
     ]
    },
    {
     "data": {
      "text/plain": [
       "u'Connected: @sfu.db'"
      ]
     },
     "execution_count": 16,
     "metadata": {},
     "output_type": "execute_result"
    }
   ],
   "source": [
    "%load_ext sql\n",
    "\n",
    "%sql sqlite:///sfu.db"
   ]
  },
  {
   "cell_type": "code",
   "execution_count": 47,
   "metadata": {},
   "outputs": [
    {
     "name": "stdout",
     "output_type": "stream",
     "text": [
      " * sqlite:///sfu.db\n",
      "Done.\n"
     ]
    },
    {
     "data": {
      "text/plain": [
       "[]"
      ]
     },
     "execution_count": 47,
     "metadata": {},
     "output_type": "execute_result"
    }
   ],
   "source": [
    "%%sql\n",
    "CREATE TABLE students(\n",
    "    SID INTEGER,\n",
    "    name VARCHAR(30),\n",
    "    age INTEGER,\n",
    "    dept_name VARCHAR(30),\n",
    "    PRIMARY KEY(SID),\n",
    "    FOREIGN KEY(dept_name) REFERENCES departments(name)\n",
    ");\n"
   ]
  },
  {
   "cell_type": "code",
   "execution_count": 48,
   "metadata": {},
   "outputs": [
    {
     "name": "stdout",
     "output_type": "stream",
     "text": [
      " * sqlite:///sfu.db\n",
      "Done.\n",
      "Done.\n"
     ]
    },
    {
     "data": {
      "text/plain": [
       "[]"
      ]
     },
     "execution_count": 48,
     "metadata": {},
     "output_type": "execute_result"
    }
   ],
   "source": [
    "%%sql\n",
    "CREATE TABLE graduate(\n",
    "    SID INTEGER, \n",
    "    research_field VARCHAR(30),\n",
    "    PRIMARY KEY(SID),\n",
    "    FOREIGN KEY(SID) REFERENCES students(SID)\n",
    ");\n",
    "\n",
    "CREATE TABLE undergraduate(\n",
    "    SID INTEGER, \n",
    "    concentration VARCHAR(30),\n",
    "    PRIMARY KEY(SID)\n",
    "    FOREIGN KEY(SID) REFERENCES students(SID)\n",
    ");\n"
   ]
  },
  {
   "cell_type": "code",
   "execution_count": 75,
   "metadata": {},
   "outputs": [
    {
     "name": "stdout",
     "output_type": "stream",
     "text": [
      " * sqlite:///sfu.db\n",
      "(sqlite3.OperationalError) table departments already exists [SQL: u'CREATE TABLE departments(\\n    name VARCHAR(30),\\n    address VARCHAR(30),\\n    PRIMARY KEY(name)\\n);'] (Background on this error at: http://sqlalche.me/e/e3q8)\n"
     ]
    }
   ],
   "source": [
    "%%sql\n",
    "CREATE TABLE departments(\n",
    "    name VARCHAR(30),\n",
    "    address VARCHAR(30),\n",
    "    PRIMARY KEY(name)\n",
    ");\n",
    "\n",
    "CREATE TABLE courses(\n",
    "    dept_name VARCHAR(30),\n",
    "    number INTEGER,\n",
    "    name VARCHAR(30),\n",
    "    capacity INTEGER,\n",
    "    semester VARCHAR(30),\n",
    "    year VARCHAR(30),\n",
    "    PRIMARY KEY(dept_name, number, semester, year),\n",
    "    FOREIGN KEY(dept_name) REFERENCES departments(name)\n",
    ");\n"
   ]
  },
  {
   "cell_type": "code",
   "execution_count": 80,
   "metadata": {},
   "outputs": [
    {
     "name": "stdout",
     "output_type": "stream",
     "text": [
      " * sqlite:///sfu.db\n",
      "Done.\n"
     ]
    },
    {
     "data": {
      "text/plain": [
       "[]"
      ]
     },
     "execution_count": 80,
     "metadata": {},
     "output_type": "execute_result"
    }
   ],
   "source": [
    "%%sql\n",
    "CREATE TABLE enrolled(\n",
    "    SID INTEGER,\n",
    "    dept_name VARCHAR(30),\n",
    "    number INTEGER,\n",
    "    semester VARCHAR(30),\n",
    "    year INTEGER,\n",
    "    PRIMARY KEY(SID, dept_name, number, semester, year),\n",
    "    FOREIGN KEY(SID) REFERENCES students(SID),\n",
    "    FOREIGN KEY(dept_name) REFERENCES departments(name),\n",
    "    FOREIGN KEY(number) REFERENCES courses(number)\n",
    ");\n"
   ]
  },
  {
   "cell_type": "markdown",
   "metadata": {},
   "source": [
    "## Part 2. Normalization (10 points)"
   ]
  },
  {
   "cell_type": "markdown",
   "metadata": {},
   "source": [
    "### Task 3. Decompose a relational schema into BCNF"
   ]
  },
  {
   "cell_type": "markdown",
   "metadata": {},
   "source": [
    "Consider a relational schema and a set of functional dependencies: \n",
    "\n",
    "* $R(A,B,C,D,E)$ with functional dependencies $A \\rightarrow E$, $BC \\rightarrow A$, $DE \\rightarrow B$\n",
    "\n",
    "**Decompose $R(A,B,C,D,E)$ into BCNF. Show all of your work and explain, at each step, which dependency violations you are correcting. You have to write down a description of your decomposition steps. （2 points)**"
   ]
  },
  {
   "cell_type": "markdown",
   "metadata": {},
   "source": [
    "1. Recognize that $BC \\rightarrow A$ is a bad FD because $\\{B,C\\}^+ = \\{A,B,C,E\\} \\neq \\{A,B,C,D,E\\}$ and , therefore, decompose $R$ into $R_1(A,B,C,E)$ and $R_2(B,C,D)$\n",
    "    \n",
    "2. Looking at $R_1$, recognize that $A \\rightarrow E$ is a bad FD because $\\{A\\}^+ = \\{A,E\\} \\neq \\{A,B,C,E\\}$ and, therefore, decompose $R_1$ into $R_3(A,E)$ and $R_4(A,B,C)$\n",
    "\n",
    "3. Assessing $R_2$, $R_3$, and $R_4$ we find no further bad FDs, therefore, these three relations are in BCNF\n"
   ]
  },
  {
   "cell_type": "markdown",
   "metadata": {},
   "source": [
    "### Task 4. Find a set of FDs that is consistent with a closed attribute set"
   ]
  },
  {
   "cell_type": "markdown",
   "metadata": {},
   "source": [
    "A set of attributes $X$ is called closed (with respect to a given set of functional dependencies) if\n",
    "$X^+=X$. Consider a relation with schema $R(A,B,C,D)$ and an unknown set of functional dependencies. For each closed attribute set below, give a set of functional dependencies that is consistent with it."
   ]
  },
  {
   "cell_type": "markdown",
   "metadata": {},
   "source": [
    "**a. All sets of attributes are closed (1 point)*\n",
    "\n",
    "$A \\rightarrow A$\n",
    "\n",
    "$B \\rightarrow B$\n",
    "\n",
    "$C \\rightarrow C$ \n",
    "\n",
    "$D \\rightarrow D$"
   ]
  },
  {
   "cell_type": "markdown",
   "metadata": {},
   "source": [
    "** b. The only closed sets are $\\{\\}$ and $\\{A,B,C,D\\}$ (1 point)**\n",
    "\n",
    "$A \\rightarrow B,C,D$\n",
    "\n",
    "$B \\rightarrow A,C,D$\n",
    "\n",
    "$C \\rightarrow A,B,D$\n",
    "\n",
    "$D \\rightarrow A,B,C$"
   ]
  },
  {
   "cell_type": "markdown",
   "metadata": {},
   "source": [
    "** c. The only closed sets are $\\{\\}$, $\\{A,B\\}$, and $\\{A,B,C,D\\}$ (1 point)**\n",
    "\n",
    "$A \\rightarrow B$\n",
    "\n",
    "$B \\rightarrow A$\n",
    "\n",
    "$C \\rightarrow D$\n",
    "\n",
    "$D \\rightarrow C$\n",
    "\n",
    "$CD \\rightarrow A$\n",
    "\n",
    "$CD \\rightarrow B$"
   ]
  },
  {
   "cell_type": "markdown",
   "metadata": {},
   "source": [
    "### Task 5. Normalize a database"
   ]
  },
  {
   "cell_type": "markdown",
   "metadata": {},
   "source": [
    "Suppose Mike is the owner of a small store. He uses the following database ([mike.db](mike.db)) to store monthly sales of his store. \n",
    "* `Sales`(name, discount, mouth, price)"
   ]
  },
  {
   "cell_type": "code",
   "execution_count": 82,
   "metadata": {},
   "outputs": [
    {
     "name": "stdout",
     "output_type": "stream",
     "text": [
      "The sql extension is already loaded. To reload it, use:\n",
      "  %reload_ext sql\n"
     ]
    },
    {
     "data": {
      "text/plain": [
       "u'Connected: @mike.db'"
      ]
     },
     "execution_count": 82,
     "metadata": {},
     "output_type": "execute_result"
    }
   ],
   "source": [
    "%load_ext sql\n",
    "%sql sqlite:///mike.db"
   ]
  },
  {
   "cell_type": "code",
   "execution_count": 84,
   "metadata": {},
   "outputs": [
    {
     "name": "stdout",
     "output_type": "stream",
     "text": [
      " * sqlite:///mike.db\n",
      "   sqlite:///sfu.db\n",
      "Done.\n"
     ]
    },
    {
     "data": {
      "text/html": [
       "<table>\n",
       "    <tr>\n",
       "        <th>name</th>\n",
       "        <th>discount</th>\n",
       "        <th>month</th>\n",
       "        <th>price</th>\n",
       "    </tr>\n",
       "    <tr>\n",
       "        <td>bar1</td>\n",
       "        <td>0.15</td>\n",
       "        <td>apr</td>\n",
       "        <td>19</td>\n",
       "    </tr>\n",
       "    <tr>\n",
       "        <td>bar8</td>\n",
       "        <td>0.15</td>\n",
       "        <td>apr</td>\n",
       "        <td>19</td>\n",
       "    </tr>\n",
       "    <tr>\n",
       "        <td>gizmo3</td>\n",
       "        <td>0.15</td>\n",
       "        <td>apr</td>\n",
       "        <td>19</td>\n",
       "    </tr>\n",
       "    <tr>\n",
       "        <td>gizmo7</td>\n",
       "        <td>0.15</td>\n",
       "        <td>apr</td>\n",
       "        <td>19</td>\n",
       "    </tr>\n",
       "    <tr>\n",
       "        <td>mouse1</td>\n",
       "        <td>0.15</td>\n",
       "        <td>apr</td>\n",
       "        <td>19</td>\n",
       "    </tr>\n",
       "</table>"
      ],
      "text/plain": [
       "[(u'bar1', 0.15, u'apr', 19),\n",
       " (u'bar8', 0.15, u'apr', 19),\n",
       " (u'gizmo3', 0.15, u'apr', 19),\n",
       " (u'gizmo7', 0.15, u'apr', 19),\n",
       " (u'mouse1', 0.15, u'apr', 19)]"
      ]
     },
     "execution_count": 84,
     "metadata": {},
     "output_type": "execute_result"
    }
   ],
   "source": [
    "%sql select * from Sales limit 5"
   ]
  },
  {
   "cell_type": "markdown",
   "metadata": {},
   "source": [
    "\n",
    "However, Mike finds that the database is difficult to update (i.e., when inserting new data into the database). Your job is to help Mike to normalize his database. You should do the following steps(a-d):"
   ]
  },
  {
   "cell_type": "markdown",
   "metadata": {},
   "source": [
    "**a.** Find all *nontrivial* functional dependencies in the database.\n",
    "This is a reverse engineering task, so expect to proceed in a trial and error fashion. Search first for the simple dependencies, say $name \\rightarrow discount$ then try the more complex ones, like $name, discount \\rightarrow month$, as needed. To check each functional dependency you have to write a SQL query.\n",
    "\n",
    "Your challenge is to write this SQL query for every candidate functional dependency that you check, such that:\n",
    "\n",
    " - the query's answer is always short (say: no more than ten lines - remember that 0 results can be instructive as well)\n",
    "\n",
    " - you can determine whether the FD holds or not by looking at the query's answer. Try to be clever in order not to check too many dependencies, but don't miss potential relevant dependencies. For example, if you have A → B and C → D, you do not need to derive AC → BD as well.\n",
    "\n",
    "**Write down all FDs that you found. (1 point)**"
   ]
  },
  {
   "cell_type": "markdown",
   "metadata": {},
   "source": [
    "$name \\rightarrow price$\n",
    "\n",
    "$month \\rightarrow discount$\n",
    "\n",
    "Note: You can add any number of parameters to the left side of one of the above FDs and the new FD will still hold. For instance, if $A\\rightarrow B$ is true, $A,C \\rightarrow B$ is also true for all $C$"
   ]
  },
  {
   "cell_type": "markdown",
   "metadata": {},
   "source": [
    "** For each FD above, write down the SQL query that discovered it (remember short queries are preferred) (1 point)**"
   ]
  },
  {
   "cell_type": "code",
   "execution_count": 120,
   "metadata": {},
   "outputs": [
    {
     "name": "stdout",
     "output_type": "stream",
     "text": [
      " * sqlite:///mike.db\n",
      "   sqlite:///sfu.db\n",
      "Done.\n"
     ]
    },
    {
     "data": {
      "text/html": [
       "<table>\n",
       "    <tr>\n",
       "        <th>name</th>\n",
       "        <th>numPrices</th>\n",
       "    </tr>\n",
       "</table>"
      ],
      "text/plain": [
       "[]"
      ]
     },
     "execution_count": 120,
     "metadata": {},
     "output_type": "execute_result"
    }
   ],
   "source": [
    "%%sql\n",
    "select * from(\n",
    "select name, count(distinct price) as numPrices from Sales group by (name)\n",
    ") where numPrices > 1;"
   ]
  },
  {
   "cell_type": "code",
   "execution_count": 121,
   "metadata": {},
   "outputs": [
    {
     "name": "stdout",
     "output_type": "stream",
     "text": [
      " * sqlite:///mike.db\n",
      "   sqlite:///sfu.db\n",
      "(sqlite3.OperationalError) row value misused [SQL: u'select * from(\\nselect name, month, count(distinct discount) as numDiscount from Sales group by (name, month)\\n) where numDiscount > 1;'] (Background on this error at: http://sqlalche.me/e/e3q8)\n"
     ]
    }
   ],
   "source": [
    "%%sql\n",
    "select * from(\n",
    "select month, count(distinct discount) as numDiscount from Sales group by (month)\n",
    ") where numDiscount > 1;"
   ]
  },
  {
   "cell_type": "markdown",
   "metadata": {},
   "source": [
    "** b. Decompose the `Sales` table into BCNF. Like Task 1, show a description of your decomposition steps. (1 point)**"
   ]
  },
  {
   "cell_type": "markdown",
   "metadata": {},
   "source": [
    "1. Recognize that $name \\rightarrow price$ is a bad FD because $\\{name\\}^+ = \\{price\\} \\neq \\{name,discount,month,price\\}$ and , therefore, decompose ```Sales``` into ```Sales1(name, price)``` and ```Sales2(name, discount, month)```\n",
    "\n",
    "2. Looking at ```Sales2```, Recognize that $month \\rightarrow discount$ is a bad FD because $\\{month\\}^+ = \\{discount\\} \\neq \\{name,discount,month\\}$ and , therefore, decompose ```Sales2``` into ```Sales3(discount, month)``` and ```Sales4(name, month)```\n",
    "\n",
    "3. Assessing ```Sales1```, ```Sales3```, and ```Sales4``` we find no further bad FDs, therefore, these three relations are in BCNF\n",
    "\n",
    "Note: in part c. Sales1 = Items, Sales3 = Discounts, Sales4 = SalesMonths"
   ]
  },
  {
   "cell_type": "markdown",
   "metadata": {},
   "source": [
    "** c.  Write down SQL queries to create the BCNF tables in the [mike.db](mike.db). Create keys and foreign keys where appropriate. (1 point)**"
   ]
  },
  {
   "cell_type": "code",
   "execution_count": 151,
   "metadata": {},
   "outputs": [
    {
     "name": "stdout",
     "output_type": "stream",
     "text": [
      " * sqlite:///mike.db\n",
      "   sqlite:///sfu.db\n",
      "Done.\n",
      "Done.\n",
      "Done.\n"
     ]
    },
    {
     "data": {
      "text/plain": [
       "[]"
      ]
     },
     "execution_count": 151,
     "metadata": {},
     "output_type": "execute_result"
    }
   ],
   "source": [
    "%%sql\n",
    "create table Items(\n",
    "    name varchar(50), \n",
    "    price int,\n",
    "    primary key(name)\n",
    ");\n",
    "\n",
    "create table SalesMonths(\n",
    "    name varchar(50),\n",
    "    month varchar(3),\n",
    "    primary key(name, month)\n",
    "    foreign key(name) references Items(name)\n",
    "    foreign key(month) references Discounts(month)\n",
    ");\n",
    "\n",
    "create table Discounts(\n",
    "    month varchar(3),\n",
    "    discount float,\n",
    "    primary key(month)\n",
    ");\n"
   ]
  },
  {
   "cell_type": "markdown",
   "metadata": {},
   "source": [
    "** d.  Populate the BCNF tables using the data from the sales table. (1 point)**\n",
    "\n",
    "*Hint:* see [SQL INSERT INTO SELECT Statement](https://www.w3schools.com/sql/sql_insert_into_select.asp)"
   ]
  },
  {
   "cell_type": "code",
   "execution_count": 152,
   "metadata": {},
   "outputs": [
    {
     "name": "stdout",
     "output_type": "stream",
     "text": [
      " * sqlite:///mike.db\n",
      "   sqlite:///sfu.db\n",
      "36 rows affected.\n",
      "12 rows affected.\n",
      "426 rows affected.\n"
     ]
    },
    {
     "data": {
      "text/plain": [
       "[]"
      ]
     },
     "execution_count": 152,
     "metadata": {},
     "output_type": "execute_result"
    }
   ],
   "source": [
    "%%sql\n",
    "insert into Items\n",
    "select distinct name, price from Sales;\n",
    "\n",
    "insert into Discounts\n",
    "select distinct month, discount from Sales;\n",
    "\n",
    "insert into SalesMonths\n",
    "select name, month from Sales order by month;\n"
   ]
  },
  {
   "cell_type": "markdown",
   "metadata": {},
   "source": [
    "## Submission"
   ]
  },
  {
   "cell_type": "markdown",
   "metadata": {},
   "source": [
    "Download [A4.zip](A4.zip). Answer the questions in A4.ipynb. Put `A4.ipynb`, `ER-diagram.png`, `sfu.db`, and the `mike.db` (with populated BCNF tables) into A4-submission.zip. \n",
    "\n",
    "Submit A4-submission.zip to the CourSys activity Assignment 4. "
   ]
  }
 ],
 "metadata": {
  "kernelspec": {
   "display_name": "Python 2",
   "language": "python",
   "name": "python2"
  },
  "language_info": {
   "codemirror_mode": {
    "name": "ipython",
    "version": 2
   },
   "file_extension": ".py",
   "mimetype": "text/x-python",
   "name": "python",
   "nbconvert_exporter": "python",
   "pygments_lexer": "ipython2",
   "version": "2.7.15"
  }
 },
 "nbformat": 4,
 "nbformat_minor": 2
}
